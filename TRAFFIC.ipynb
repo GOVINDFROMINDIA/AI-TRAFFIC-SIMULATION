{
  "nbformat": 4,
  "nbformat_minor": 0,
  "metadata": {
    "colab": {
      "provenance": [],
      "include_colab_link": true
    },
    "kernelspec": {
      "name": "python3",
      "display_name": "Python 3"
    },
    "language_info": {
      "name": "python"
    }
  },
  "cells": [
    {
      "cell_type": "markdown",
      "metadata": {
        "id": "view-in-github",
        "colab_type": "text"
      },
      "source": [
        "<a href=\"https://colab.research.google.com/github/GOVINDFROMINDIA/AI-TRAFFIC-SIMULATION/blob/main/TRAFFIC.ipynb\" target=\"_parent\"><img src=\"https://colab.research.google.com/assets/colab-badge.svg\" alt=\"Open In Colab\"/></a>"
      ]
    },
    {
      "cell_type": "markdown",
      "source": [
        "**MANUAL**"
      ],
      "metadata": {
        "id": "kv7QMzrL7ynF"
      }
    },
    {
      "cell_type": "code",
      "execution_count": null,
      "metadata": {
        "colab": {
          "base_uri": "https://localhost:8080/"
        },
        "id": "uMRcuF2OwcX7",
        "outputId": "b9863150-9d71-4a96-cde1-93d2398bf6cf"
      },
      "outputs": [
        {
          "name": "stdout",
          "output_type": "stream",
          "text": [
            "Past Count: 7\n",
            "Current Count: 0\n",
            "Emergency True/False: False\n"
          ]
        }
      ],
      "source": [
        "past=int(input(\"Past Count: \"))\n",
        "current=int(input(\"Current Count: \"))\n",
        "emergency=bool(input(\"Emergency True/False: \"))\n"
      ]
    },
    {
      "cell_type": "markdown",
      "source": [
        "**RANDOM**"
      ],
      "metadata": {
        "id": "Rd5jmlI-79Tg"
      }
    },
    {
      "cell_type": "code",
      "source": [
        "import random\n",
        "\n",
        "#past= random.randint(5, 30)\n",
        "#current= random.randint(5, 30)\n",
        "#emergency= random.choice([True, False])\n",
        "past=16\n",
        "current=27\n",
        "emergency=False\n",
        "print(past,current,emergency)"
      ],
      "metadata": {
        "colab": {
          "base_uri": "https://localhost:8080/"
        },
        "id": "pp8SphBZ8tmV",
        "outputId": "9527d3b9-5d2f-41df-9727-08b0b90d8197"
      },
      "execution_count": null,
      "outputs": [
        {
          "output_type": "stream",
          "name": "stdout",
          "text": [
            "16 27 False\n"
          ]
        }
      ]
    },
    {
      "cell_type": "markdown",
      "source": [
        "**ALGORITHM**"
      ],
      "metadata": {
        "id": "Ap8CtzUi-y5d"
      }
    },
    {
      "cell_type": "code",
      "source": [
        "time_min=15 #minimum time for each timer\n",
        "time_max=60 #maximum alloted time for each\n",
        "if emergency== True:\n",
        "  time=0\n",
        "elif current==0:\n",
        "    time=time_max\n",
        "else:\n",
        "    weighted_avg = round((0.8 * current) + (0.2 * past))\n",
        "    time=time_max-((weighted_avg/28 )*time_max)   tmax(1-scale)\n",
        "    time=round(time)\n",
        "    if time<=time_min:\n",
        "      time=time_min\n",
        "print(time)"
      ],
      "metadata": {
        "colab": {
          "base_uri": "https://localhost:8080/"
        },
        "id": "Us_06lZW-7QP",
        "outputId": "b180ac49-cfc2-470a-f6fc-0bf1d2b23aa7"
      },
      "execution_count": null,
      "outputs": [
        {
          "output_type": "stream",
          "name": "stdout",
          "text": [
            "15\n"
          ]
        }
      ]
    },
    {
      "cell_type": "code",
      "source": [
        "time=60-((20/22 )*60)\n",
        "time=round(time)\n",
        "time"
      ],
      "metadata": {
        "colab": {
          "base_uri": "https://localhost:8080/"
        },
        "id": "cGGFQdcMvCL8",
        "outputId": "f3dc8cfa-ab94-4726-c6b9-e228ff11e3a2"
      },
      "execution_count": null,
      "outputs": [
        {
          "output_type": "execute_result",
          "data": {
            "text/plain": [
              "5"
            ]
          },
          "metadata": {},
          "execution_count": 6
        }
      ]
    },
    {
      "cell_type": "code",
      "source": [
        "\n"
      ],
      "metadata": {
        "id": "2Ie8FUy6EsXT"
      },
      "execution_count": null,
      "outputs": []
    },
    {
      "cell_type": "markdown",
      "source": [
        "# **Previous Data**"
      ],
      "metadata": {
        "id": "jK5V_XVCakiK"
      }
    },
    {
      "cell_type": "code",
      "source": [
        "import random\n",
        "\n",
        "prev= random.randint(1,15)\n",
        "prev"
      ],
      "metadata": {
        "colab": {
          "base_uri": "https://localhost:8080/"
        },
        "id": "i58wCrF3Zzqh",
        "outputId": "fbe81676-5065-420a-ea6a-2451ed9d4c34"
      },
      "execution_count": null,
      "outputs": [
        {
          "output_type": "execute_result",
          "data": {
            "text/plain": [
              "2"
            ]
          },
          "metadata": {},
          "execution_count": 2
        }
      ]
    }
  ]
}